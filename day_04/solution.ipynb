{
 "cells": [
  {
   "cell_type": "markdown",
   "metadata": {},
   "source": [
    "# Part 1"
   ]
  },
  {
   "cell_type": "code",
   "execution_count": 82,
   "metadata": {},
   "outputs": [],
   "source": [
    "import pandas as pd"
   ]
  },
  {
   "cell_type": "code",
   "execution_count": 83,
   "metadata": {},
   "outputs": [],
   "source": [
    "with open('data.txt', 'r') as f:\n",
    "  data = f.read().splitlines()"
   ]
  },
  {
   "cell_type": "code",
   "execution_count": 84,
   "metadata": {},
   "outputs": [],
   "source": [
    "res_list = []\n",
    "\n",
    "for line in data:\n",
    "  _, results = line.strip().split(':')\n",
    "  results = results.strip().split(\"|\")\n",
    "  res = {'nice_nums':results[0], 'naughty_nums':results[1]}\n",
    "  res_list.append(res)\n",
    "  "
   ]
  },
  {
   "cell_type": "code",
   "execution_count": 95,
   "metadata": {},
   "outputs": [
    {
     "data": {
      "text/html": [
       "<div>\n",
       "<style scoped>\n",
       "    .dataframe tbody tr th:only-of-type {\n",
       "        vertical-align: middle;\n",
       "    }\n",
       "\n",
       "    .dataframe tbody tr th {\n",
       "        vertical-align: top;\n",
       "    }\n",
       "\n",
       "    .dataframe thead th {\n",
       "        text-align: right;\n",
       "    }\n",
       "</style>\n",
       "<table border=\"1\" class=\"dataframe\">\n",
       "  <thead>\n",
       "    <tr style=\"text-align: right;\">\n",
       "      <th></th>\n",
       "      <th>nice_nums</th>\n",
       "      <th>naughty_nums</th>\n",
       "    </tr>\n",
       "  </thead>\n",
       "  <tbody>\n",
       "    <tr>\n",
       "      <th>0</th>\n",
       "      <td>29 21 67 44  6 13 68 15 60 79</td>\n",
       "      <td>75 44 60 30 10 68 40 70 36 79  3 13 64 15  4 ...</td>\n",
       "    </tr>\n",
       "    <tr>\n",
       "      <th>1</th>\n",
       "      <td>15 61  5 39 42 79  4 81 72 89</td>\n",
       "      <td>74 79 20 81 72 85 25 76 36 49 51 18 34 90 57 ...</td>\n",
       "    </tr>\n",
       "    <tr>\n",
       "      <th>2</th>\n",
       "      <td>75 31 33 22 49 70 37 98 92 94</td>\n",
       "      <td>1 87 73 92 57 94 84 10  5 79 69 74 96 37 40 ...</td>\n",
       "    </tr>\n",
       "    <tr>\n",
       "      <th>3</th>\n",
       "      <td>76 59 23 34 55 41 47 92 58  5</td>\n",
       "      <td>16 70 56 19 79 30 85 58 88 75 71  5  8 64 12 ...</td>\n",
       "    </tr>\n",
       "    <tr>\n",
       "      <th>4</th>\n",
       "      <td>48 77 74 18 44 34 71 38 67  1</td>\n",
       "      <td>8 78 73 19 39 50 11 54 69 37 79 18 66 77 52 ...</td>\n",
       "    </tr>\n",
       "    <tr>\n",
       "      <th>...</th>\n",
       "      <td>...</td>\n",
       "      <td>...</td>\n",
       "    </tr>\n",
       "    <tr>\n",
       "      <th>209</th>\n",
       "      <td>31 59  3 38 30 69 84 24 48 20</td>\n",
       "      <td>82 87 98 38 13 64 63 55 68 49  8 26 76 58 81 ...</td>\n",
       "    </tr>\n",
       "    <tr>\n",
       "      <th>210</th>\n",
       "      <td>99 37 92 70  2 88 33 84 63  9</td>\n",
       "      <td>50 24 57 65 51 15 21 12  7 23 49 77 60 71 67 ...</td>\n",
       "    </tr>\n",
       "    <tr>\n",
       "      <th>211</th>\n",
       "      <td>38 22 26 25 62 17 71 88 31 86</td>\n",
       "      <td>66 64  9 75 74 35 15 33 56 59 98 70 94 73 24 ...</td>\n",
       "    </tr>\n",
       "    <tr>\n",
       "      <th>212</th>\n",
       "      <td>67 96 40 18 19 51 28 23 36 47</td>\n",
       "      <td>61 99 58 43 95 81 16 24 65  9 54  4 87 84 32 ...</td>\n",
       "    </tr>\n",
       "    <tr>\n",
       "      <th>213</th>\n",
       "      <td>11 74 92 36 26 68 78 73  5 80</td>\n",
       "      <td>67 15  3 22 46 41 87 64 53 89 52 85 99 61 84 ...</td>\n",
       "    </tr>\n",
       "  </tbody>\n",
       "</table>\n",
       "<p>214 rows × 2 columns</p>\n",
       "</div>"
      ],
      "text/plain": [
       "                          nice_nums   \n",
       "0    29 21 67 44  6 13 68 15 60 79   \\\n",
       "1    15 61  5 39 42 79  4 81 72 89    \n",
       "2    75 31 33 22 49 70 37 98 92 94    \n",
       "3    76 59 23 34 55 41 47 92 58  5    \n",
       "4    48 77 74 18 44 34 71 38 67  1    \n",
       "..                              ...   \n",
       "209  31 59  3 38 30 69 84 24 48 20    \n",
       "210  99 37 92 70  2 88 33 84 63  9    \n",
       "211  38 22 26 25 62 17 71 88 31 86    \n",
       "212  67 96 40 18 19 51 28 23 36 47    \n",
       "213  11 74 92 36 26 68 78 73  5 80    \n",
       "\n",
       "                                          naughty_nums  \n",
       "0     75 44 60 30 10 68 40 70 36 79  3 13 64 15  4 ...  \n",
       "1     74 79 20 81 72 85 25 76 36 49 51 18 34 90 57 ...  \n",
       "2      1 87 73 92 57 94 84 10  5 79 69 74 96 37 40 ...  \n",
       "3     16 70 56 19 79 30 85 58 88 75 71  5  8 64 12 ...  \n",
       "4      8 78 73 19 39 50 11 54 69 37 79 18 66 77 52 ...  \n",
       "..                                                 ...  \n",
       "209   82 87 98 38 13 64 63 55 68 49  8 26 76 58 81 ...  \n",
       "210   50 24 57 65 51 15 21 12  7 23 49 77 60 71 67 ...  \n",
       "211   66 64  9 75 74 35 15 33 56 59 98 70 94 73 24 ...  \n",
       "212   61 99 58 43 95 81 16 24 65  9 54  4 87 84 32 ...  \n",
       "213   67 15  3 22 46 41 87 64 53 89 52 85 99 61 84 ...  \n",
       "\n",
       "[214 rows x 2 columns]"
      ]
     },
     "execution_count": 95,
     "metadata": {},
     "output_type": "execute_result"
    }
   ],
   "source": [
    "df = pd.DataFrame(res_list)\n",
    "df"
   ]
  },
  {
   "cell_type": "code",
   "execution_count": 96,
   "metadata": {},
   "outputs": [],
   "source": [
    "df['nice_nums_list'] = df['nice_nums'].str.split().apply(lambda x: list(map(int, x)))\n",
    "df['naughty_nums_list'] = df['naughty_nums'].str.split().apply(lambda x: list(map(int, x)))"
   ]
  },
  {
   "cell_type": "code",
   "execution_count": 98,
   "metadata": {},
   "outputs": [],
   "source": [
    "intersection = lambda list1, list2: list(set(list1).intersection(list2))"
   ]
  },
  {
   "cell_type": "code",
   "execution_count": 100,
   "metadata": {},
   "outputs": [],
   "source": [
    "df['Intersection'] = df.apply(lambda row: intersection(row['nice_nums_list'], row['naughty_nums_list']), axis=1)"
   ]
  },
  {
   "cell_type": "code",
   "execution_count": 108,
   "metadata": {},
   "outputs": [],
   "source": [
    "def calculate_score(row):\n",
    "  if len(row) == 0:\n",
    "    return 0\n",
    "  else:\n",
    "    return 2 ** (len(row)-1)"
   ]
  },
  {
   "cell_type": "code",
   "execution_count": 109,
   "metadata": {},
   "outputs": [],
   "source": [
    "df['Score'] = df['Intersection'].apply(calculate_score)"
   ]
  },
  {
   "cell_type": "code",
   "execution_count": 111,
   "metadata": {},
   "outputs": [
    {
     "data": {
      "text/plain": [
       "23750"
      ]
     },
     "execution_count": 111,
     "metadata": {},
     "output_type": "execute_result"
    }
   ],
   "source": [
    "df['Score'].sum()"
   ]
  },
  {
   "cell_type": "markdown",
   "metadata": {},
   "source": [
    "# Part 2"
   ]
  },
  {
   "cell_type": "code",
   "execution_count": 133,
   "metadata": {},
   "outputs": [],
   "source": [
    "df['len'] = df['Intersection'].apply(len)"
   ]
  },
  {
   "cell_type": "code",
   "execution_count": 128,
   "metadata": {},
   "outputs": [],
   "source": [
    "len_list = df['len'].tolist()\n",
    "dic = {}\n",
    "for i, j in enumerate(len_list):\n",
    "  if i not in dic:\n",
    "    dic[i] = 1\n",
    "  for k in range(i + 1, i + j + 1):\n",
    "    dic[k] = dic.get(k, 1) + dic[i]"
   ]
  },
  {
   "cell_type": "code",
   "execution_count": 126,
   "metadata": {},
   "outputs": [
    {
     "data": {
      "text/plain": [
       "13261850"
      ]
     },
     "execution_count": 126,
     "metadata": {},
     "output_type": "execute_result"
    }
   ],
   "source": [
    "sum(dic.values())"
   ]
  },
  {
   "cell_type": "markdown",
   "metadata": {},
   "source": [
    "# Test example"
   ]
  },
  {
   "cell_type": "code",
   "execution_count": 132,
   "metadata": {},
   "outputs": [
    {
     "data": {
      "text/plain": [
       "30"
      ]
     },
     "execution_count": 132,
     "metadata": {},
     "output_type": "execute_result"
    }
   ],
   "source": [
    "test_len = [4, 2, 2, 1, 0, 0]\n",
    "test_dic = {}\n",
    "for i, j in enumerate(test_len):\n",
    "  if i not in test_dic:\n",
    "    test_dic[i] = 1\n",
    "  for k in range(i + 1, i + j + 1):\n",
    "    test_dic[k] = test_dic.get(k, 1) + test_dic[i]\n",
    "\n",
    "sum(test_dic.values())"
   ]
  }
 ],
 "metadata": {
  "kernelspec": {
   "display_name": "Python 3",
   "language": "python",
   "name": "python3"
  },
  "language_info": {
   "codemirror_mode": {
    "name": "ipython",
    "version": 3
   },
   "file_extension": ".py",
   "mimetype": "text/x-python",
   "name": "python",
   "nbconvert_exporter": "python",
   "pygments_lexer": "ipython3",
   "version": "3.9.6"
  }
 },
 "nbformat": 4,
 "nbformat_minor": 2
}
